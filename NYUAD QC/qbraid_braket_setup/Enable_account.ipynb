{
 "cells": [
  {
   "cell_type": "markdown",
   "metadata": {},
   "source": [
    "# Enable account to access Braket QPUs\n",
    "\n",
    "Use the qBraid-CLI to enable your account and gain access to QPUs available through Braket.\n",
    "\n",
    "Normally, Braket requires that you specify a storage location in your AWS account to hold the results of your quantum tasks. However, by using Braket through qBaid Lab, we've taken care of this for you. So you can leave the bucket and folder as dummy variables."
   ]
  },
  {
   "cell_type": "code",
   "execution_count": 1,
   "metadata": {},
   "outputs": [
    {
     "name": "stdout",
     "output_type": "stream",
     "text": [
      "\u001b[0;35m You are now submitting jobs with qBraid Quantum Jobs.\u001b[0m\n",
      "\u001b[0;35m Every job you run will be taken care of with our API, so no access keys are necessary. \u001b[0m\n",
      "To disable run the command: \u001b[0;35m qbraid disable account. \u001b[0m\n"
     ]
    }
   ],
   "source": [
    "!qbraid enable account"
   ]
  },
  {
   "cell_type": "code",
   "execution_count": 2,
   "metadata": {},
   "outputs": [],
   "source": [
    "# general imports\n",
    "from braket.aws import AwsDevice\n",
    "from braket.circuits import Circuit"
   ]
  },
  {
   "cell_type": "code",
   "execution_count": 3,
   "metadata": {},
   "outputs": [
    {
     "name": "stdout",
     "output_type": "stream",
     "text": [
      "T  : |0|1|\n",
      "          \n",
      "q0 : -H-C-\n",
      "        | \n",
      "q1 : ---X-\n",
      "\n",
      "T  : |0|1|\n"
     ]
    }
   ],
   "source": [
    "# create the circuit\n",
    "bell = Circuit().h(0).cnot(0, 1)\n",
    "\n",
    "print(bell)"
   ]
  },
  {
   "cell_type": "code",
   "execution_count": 4,
   "metadata": {},
   "outputs": [],
   "source": [
    "# the name of the bucket\n",
    "my_bucket = \"example-bucket\"\n",
    "# the name of the folder in the bucket\n",
    "my_prefix = \"example-folder\"\n",
    "s3_folder = (my_bucket, my_prefix)"
   ]
  },
  {
   "cell_type": "code",
   "execution_count": 5,
   "metadata": {},
   "outputs": [
    {
     "name": "stdout",
     "output_type": "stream",
     "text": [
      "Counter({'11': 7, '00': 3})\n"
     ]
    }
   ],
   "source": [
    "# choose the cloud-based managed simulator to run your circuit\n",
    "device = AwsDevice(\"arn:aws:braket:::device/quantum-simulator/amazon/sv1\")\n",
    "\n",
    "# execute the circuit\n",
    "task = device.run(bell, s3_folder, shots=10)\n",
    "# display the results\n",
    "print(task.result().measurement_counts)"
   ]
  }
 ],
 "metadata": {
  "kernelspec": {
   "display_name": "Python 3 [Braket]",
   "language": "python",
   "name": "python3_aws_braket_kwx6dl"
  },
  "language_info": {
   "codemirror_mode": {
    "name": "ipython",
    "version": 3
   },
   "file_extension": ".py",
   "mimetype": "text/x-python",
   "name": "python",
   "nbconvert_exporter": "python",
   "pygments_lexer": "ipython3",
   "version": "3.9.7"
  }
 },
 "nbformat": 4,
 "nbformat_minor": 4
}
