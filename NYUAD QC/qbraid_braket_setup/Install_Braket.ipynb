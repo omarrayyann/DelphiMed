{
 "cells": [
  {
   "cell_type": "markdown",
   "metadata": {
    "tags": []
   },
   "source": [
    "# Install the Amazon Braket Environment"
   ]
  },
  {
   "cell_type": "markdown",
   "metadata": {},
   "source": [
    "In the upper-right-hand corner of your screen, click on `Envs` to expand the Environments side-pannel. Then click on `+Add` to see all of the environments available to install.\n",
    "\n",
    "![0_Add_Environment.png](lab_figures/0_Add_Environment.png)"
   ]
  },
  {
   "cell_type": "markdown",
   "metadata": {},
   "source": [
    "Expand the `Amazon Braket` pannel, and click `Install` to begin installing the environment.\n",
    "\n",
    "![1_Install_Braket.png](lab_figures/1_Install_Braket.png)"
   ]
  },
  {
   "cell_type": "markdown",
   "metadata": {},
   "source": [
    "Click `Browse Environments` to return to your environments, and notice that Amazon Braket is installing. \n",
    "\n",
    "![2_Braket_Installed.png](lab_figures/2_Braket_Installed.png)"
   ]
  },
  {
   "cell_type": "markdown",
   "metadata": {},
   "source": [
    "The Amazon Braket environment will take ~3 minutes to install. Once finished, the `Activate` button will become available.\n",
    "\n",
    "![3_Activate_Braket.png](lab_figures/3_Activate_Braket.png)"
   ]
  },
  {
   "cell_type": "markdown",
   "metadata": {},
   "source": [
    "Finally, click `Activate` to create a Jupyter Notebook with the Amazon Braket environment kernel.\n",
    "\n",
    "![4_Braket_Activated.png](lab_figures/4_Braket_Activated.png)"
   ]
  }
 ],
 "metadata": {
  "kernelspec": {
   "display_name": "Python 3 [Braket]",
   "language": "python",
   "name": "python3_aws_braket_kwx6dl"
  },
  "language_info": {
   "codemirror_mode": {
    "name": "ipython",
    "version": 3
   },
   "file_extension": ".py",
   "mimetype": "text/x-python",
   "name": "python",
   "nbconvert_exporter": "python",
   "pygments_lexer": "ipython3",
   "version": "3.9.7"
  }
 },
 "nbformat": 4,
 "nbformat_minor": 4
}
